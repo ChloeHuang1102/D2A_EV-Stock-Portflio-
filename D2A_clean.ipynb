{
  "nbformat": 4,
  "nbformat_minor": 0,
  "metadata": {
    "colab": {
      "provenance": []
    },
    "kernelspec": {
      "name": "python3",
      "display_name": "Python 3"
    },
    "language_info": {
      "name": "python"
    }
  },
  "cells": [
    {
      "cell_type": "markdown",
      "source": [
        "# LSTM-Robust投资组合系统"
      ],
      "metadata": {
        "id": "m0qx3wJCuS3w"
      }
    },
    {
      "cell_type": "code",
      "source": [
        "# 导入必要的库\n",
        "import numpy as np\n",
        "import pandas as pd\n",
        "import yfinance as yf\n",
        "import tensorflow as tf\n",
        "from tensorflow.keras.models import Sequential\n",
        "from tensorflow.keras.layers import LSTM, Dense, Dropout\n",
        "from tensorflow.keras.optimizers import Adam\n",
        "import cvxpy as cp\n",
        "from sklearn.preprocessing import MinMaxScaler\n",
        "import matplotlib.pyplot as plt\n",
        "import seaborn as sns\n",
        "from datetime import datetime, timedelta\n",
        "import warnings\n",
        "warnings.filterwarnings('ignore')\n",
        "\n",
        "print(\"库导入完成\")"
      ],
      "metadata": {
        "colab": {
          "base_uri": "https://localhost:8080/"
        },
        "id": "7j4Q9DCduTdF",
        "outputId": "32a0fa6e-08c2-4364-c9d6-7b64bcf29a84"
      },
      "execution_count": 1,
      "outputs": [
        {
          "output_type": "stream",
          "name": "stdout",
          "text": [
            "库导入完成\n"
          ]
        }
      ]
    },
    {
      "cell_type": "markdown",
      "source": [
        "## 1.历史数据获取"
      ],
      "metadata": {
        "id": "XODWVMi-udpd"
      }
    },
    {
      "cell_type": "code",
      "source": [
        "def get_ev_data(n_stocks=30, start_date='2020-01-01', end_date='2025-09-30'):\n",
        "    \"\"\"获取EV股票历史数据\"\"\"\n",
        "    print(\"=\"*50)\n",
        "    print(\"1. 历史数据获取\")\n",
        "    print(\"=\"*50)\n",
        "\n",
        "    ev_stocks = [\n",
        "        'TSLA', 'NIO', 'XPEV', 'LI', 'RIVN', 'LCID', 'F', 'GM', 'FORD',\n",
        "        'RACE', 'BMWYY', 'VWAGY', 'TM', 'HMC', 'BYDDF', 'BAMXF', 'DMLRY',\n",
        "        'STLA', 'NSANY', 'HYMTF', 'RIVN', 'LCID', 'F', 'GM', 'FORD',\n",
        "        'TSLA', 'NIO', 'XPEV', 'LI', 'RIVN'\n",
        "    ]\n",
        "\n",
        "    stock_data = {}\n",
        "    successful_stocks = []\n",
        "\n",
        "    for symbol in ev_stocks[:n_stocks]:\n",
        "        try:\n",
        "            ticker = yf.Ticker(symbol)\n",
        "            data = ticker.history(start=start_date, end=end_date)\n",
        "\n",
        "            if not data.empty and len(data) > 1000:\n",
        "                stock_data[symbol] = data['Close']\n",
        "                successful_stocks.append(symbol)\n",
        "                print(f\"✓ {symbol}: {len(data)} 个交易日\")\n",
        "            else:\n",
        "                print(f\"✗ {symbol}: 数据不足\")\n",
        "        except Exception as e:\n",
        "            print(f\"✗ {symbol}: 错误 - {e}\")\n",
        "\n",
        "    raw_data = pd.DataFrame(stock_data).dropna()\n",
        "    returns = raw_data.pct_change().dropna()\n",
        "\n",
        "    print(f\"\\n数据获取完成: {len(successful_stocks)} 支股票, {raw_data.shape[0]} 个交易日\")\n",
        "    return raw_data, returns, successful_stocks\n",
        "\n",
        "# 获取数据\n",
        "raw_data, returns, stock_names = get_ev_data()"
      ],
      "metadata": {
        "colab": {
          "base_uri": "https://localhost:8080/"
        },
        "id": "Bm-BarK3uYD0",
        "outputId": "b6bb92eb-988c-40ea-ebcc-0d8864fd3f0a"
      },
      "execution_count": 2,
      "outputs": [
        {
          "output_type": "stream",
          "name": "stdout",
          "text": [
            "==================================================\n",
            "1. 历史数据获取\n",
            "==================================================\n",
            "✓ TSLA: 1443 个交易日\n",
            "✓ NIO: 1443 个交易日\n",
            "✓ XPEV: 1278 个交易日\n",
            "✓ LI: 1298 个交易日\n",
            "✗ RIVN: 数据不足\n",
            "✓ LCID: 1263 个交易日\n",
            "✓ F: 1443 个交易日\n",
            "✓ GM: 1443 个交易日\n",
            "✓ FORD: 1443 个交易日\n",
            "✓ RACE: 1443 个交易日\n"
          ]
        },
        {
          "output_type": "stream",
          "name": "stderr",
          "text": [
            "ERROR:yfinance:$BMWYY: possibly delisted; no timezone found\n"
          ]
        },
        {
          "output_type": "stream",
          "name": "stdout",
          "text": [
            "✗ BMWYY: 数据不足\n",
            "✓ VWAGY: 1443 个交易日\n",
            "✓ TM: 1443 个交易日\n",
            "✓ HMC: 1443 个交易日\n",
            "✓ BYDDF: 1443 个交易日\n",
            "✓ BAMXF: 1443 个交易日\n"
          ]
        },
        {
          "output_type": "stream",
          "name": "stderr",
          "text": [
            "ERROR:yfinance:$DMLRY: possibly delisted; no timezone found\n"
          ]
        },
        {
          "output_type": "stream",
          "name": "stdout",
          "text": [
            "✗ DMLRY: 数据不足\n",
            "✓ STLA: 1443 个交易日\n",
            "✓ NSANY: 1443 个交易日\n"
          ]
        },
        {
          "output_type": "stream",
          "name": "stderr",
          "text": [
            "ERROR:yfinance:$HYMTF: possibly delisted; no timezone found\n"
          ]
        },
        {
          "output_type": "stream",
          "name": "stdout",
          "text": [
            "✗ HYMTF: 数据不足\n",
            "✗ RIVN: 数据不足\n",
            "✓ LCID: 1263 个交易日\n",
            "✓ F: 1443 个交易日\n",
            "✓ GM: 1443 个交易日\n",
            "✓ FORD: 1443 个交易日\n",
            "✓ TSLA: 1443 个交易日\n",
            "✓ NIO: 1443 个交易日\n",
            "✓ XPEV: 1278 个交易日\n",
            "✓ LI: 1298 个交易日\n",
            "✗ RIVN: 数据不足\n",
            "\n",
            "数据获取完成: 24 支股票, 1263 个交易日\n"
          ]
        }
      ]
    },
    {
      "cell_type": "markdown",
      "source": [
        "## 2.Preprocessing"
      ],
      "metadata": {
        "id": "fwqHJ8Ffuz2P"
      }
    },
    {
      "cell_type": "code",
      "source": [
        "# ==========================================\n",
        "# 2. 数据预处理\n",
        "# ==========================================\n",
        "\n",
        "print(\"=\"*50)\n",
        "print(\"2. 数据预处理\")\n",
        "print(\"=\"*50)\n",
        "\n",
        "# 标准化价格数据\n",
        "scaler = MinMaxScaler()\n",
        "scaled_prices = scaler.fit_transform(raw_data)\n",
        "scaled_prices = pd.DataFrame(scaled_prices, columns=raw_data.columns, index=raw_data.index)\n",
        "\n",
        "print(f\"价格数据标准化完成: {scaled_prices.shape}\")\n",
        "print(f\"收益率数据形状: {returns.shape}\")\n",
        "print(\"数据预处理完成\")"
      ],
      "metadata": {
        "colab": {
          "base_uri": "https://localhost:8080/"
        },
        "id": "NBx5ZHKouuLT",
        "outputId": "c9e6fe52-9df6-4059-b772-a9315f43ce7b"
      },
      "execution_count": 3,
      "outputs": [
        {
          "output_type": "stream",
          "name": "stdout",
          "text": [
            "==================================================\n",
            "2. 数据预处理\n",
            "==================================================\n",
            "价格数据标准化完成: (1263, 16)\n",
            "收益率数据形状: (1262, 16)\n",
            "数据预处理完成\n"
          ]
        }
      ]
    },
    {
      "cell_type": "markdown",
      "source": [
        "## 3. Splitting"
      ],
      "metadata": {
        "id": "Zi4TfhV5u3k_"
      }
    },
    {
      "cell_type": "code",
      "source": [
        "print(\"=\"*50)\n",
        "print(\"3. 数据分割\")\n",
        "print(\"=\"*50)\n",
        "\n",
        "# 分割参数\n",
        "test_size = 30\n",
        "sequence_length = 20\n",
        "\n",
        "# 分割数据\n",
        "train_data = scaled_prices.iloc[:-test_size]\n",
        "test_data = scaled_prices.iloc[-test_size:]\n",
        "\n",
        "print(f\"训练集: {train_data.shape}\")\n",
        "print(f\"测试集: {test_data.shape}\")\n",
        "print(f\"序列长度: {sequence_length}\")\n",
        "print(\"数据分割完成\")"
      ],
      "metadata": {
        "colab": {
          "base_uri": "https://localhost:8080/"
        },
        "id": "cEKySGGju2Hf",
        "outputId": "b1a834b6-377c-43e9-d8ba-be99b81a6627"
      },
      "execution_count": 4,
      "outputs": [
        {
          "output_type": "stream",
          "name": "stdout",
          "text": [
            "==================================================\n",
            "3. 数据分割\n",
            "==================================================\n",
            "训练集: (1233, 16)\n",
            "测试集: (30, 16)\n",
            "序列长度: 20\n",
            "数据分割完成\n"
          ]
        }
      ]
    },
    {
      "cell_type": "markdown",
      "source": [
        "## 4.LSTM Model Training"
      ],
      "metadata": {
        "id": "lWptX_Gju6q3"
      }
    },
    {
      "cell_type": "code",
      "source": [
        "print(\"=\"*50)\n",
        "print(\"4. LSTM模型训练\")\n",
        "print(\"=\"*50)\n",
        "\n",
        "def prepare_lstm_data(data, seq_length):\n",
        "    \"\"\"准备LSTM训练数据\"\"\"\n",
        "    X, y = [], []\n",
        "    for i in range(seq_length, len(data)):\n",
        "        X.append(data.iloc[i-seq_length:i].values)\n",
        "        y.append(data.iloc[i].values)\n",
        "    return np.array(X), np.array(y)\n",
        "\n",
        "def build_lstm_model(input_shape, n_stocks):\n",
        "    \"\"\"构建LSTM模型\"\"\"\n",
        "    model = Sequential([\n",
        "        LSTM(64, return_sequences=True, input_shape=input_shape),\n",
        "        Dropout(0.2),\n",
        "        LSTM(32, return_sequences=False),\n",
        "        Dropout(0.2),\n",
        "        Dense(16, activation='relu'),\n",
        "        Dense(n_stocks, activation='linear')\n",
        "    ])\n",
        "\n",
        "    model.compile(\n",
        "        optimizer=Adam(learning_rate=0.001),\n",
        "        loss='mse',\n",
        "        metrics=['mae']\n",
        "    )\n",
        "    return model\n",
        "\n",
        "# 准备训练数据\n",
        "X_train, y_train = prepare_lstm_data(train_data, sequence_length)\n",
        "X_val, y_val = prepare_lstm_data(test_data, sequence_length)\n",
        "\n",
        "# Build and train the model with the actual number of stocks in the training data\n",
        "lstm_model = build_lstm_model((X_train.shape[1], X_train.shape[2]), train_data.shape[1])\n",
        "\n",
        "print(f\"训练数据形状: {X_train.shape}\")\n",
        "print(f\"验证数据形状: {X_val.shape}\")\n",
        "print(\"开始训练LSTM模型...\")\n",
        "\n",
        "# 训练模型\n",
        "history = lstm_model.fit(\n",
        "    X_train, y_train,\n",
        "    validation_data=(X_val, y_val),\n",
        "    epochs=50,\n",
        "    batch_size=32,\n",
        "    verbose=1\n",
        ")\n",
        "\n",
        "print(\"LSTM模型训练完成\")"
      ],
      "metadata": {
        "colab": {
          "base_uri": "https://localhost:8080/"
        },
        "id": "uGKwWKciu52G",
        "outputId": "cc30266f-2b5f-4292-e5f2-91dea40b0db0"
      },
      "execution_count": 6,
      "outputs": [
        {
          "output_type": "stream",
          "name": "stdout",
          "text": [
            "==================================================\n",
            "4. LSTM模型训练\n",
            "==================================================\n",
            "训练数据形状: (1213, 20, 16)\n",
            "验证数据形状: (10, 20, 16)\n",
            "开始训练LSTM模型...\n",
            "Epoch 1/50\n",
            "\u001b[1m38/38\u001b[0m \u001b[32m━━━━━━━━━━━━━━━━━━━━\u001b[0m\u001b[37m\u001b[0m \u001b[1m5s\u001b[0m 29ms/step - loss: 0.1193 - mae: 0.2758 - val_loss: 0.1131 - val_mae: 0.2754\n",
            "Epoch 2/50\n",
            "\u001b[1m38/38\u001b[0m \u001b[32m━━━━━━━━━━━━━━━━━━━━\u001b[0m\u001b[37m\u001b[0m \u001b[1m1s\u001b[0m 18ms/step - loss: 0.0502 - mae: 0.1729 - val_loss: 0.0477 - val_mae: 0.1918\n",
            "Epoch 3/50\n",
            "\u001b[1m38/38\u001b[0m \u001b[32m━━━━━━━━━━━━━━━━━━━━\u001b[0m\u001b[37m\u001b[0m \u001b[1m1s\u001b[0m 18ms/step - loss: 0.0289 - mae: 0.1305 - val_loss: 0.0310 - val_mae: 0.1284\n",
            "Epoch 4/50\n",
            "\u001b[1m38/38\u001b[0m \u001b[32m━━━━━━━━━━━━━━━━━━━━\u001b[0m\u001b[37m\u001b[0m \u001b[1m1s\u001b[0m 19ms/step - loss: 0.0192 - mae: 0.1067 - val_loss: 0.0367 - val_mae: 0.1352\n",
            "Epoch 5/50\n",
            "\u001b[1m38/38\u001b[0m \u001b[32m━━━━━━━━━━━━━━━━━━━━\u001b[0m\u001b[37m\u001b[0m \u001b[1m1s\u001b[0m 19ms/step - loss: 0.0164 - mae: 0.0986 - val_loss: 0.0306 - val_mae: 0.1137\n",
            "Epoch 6/50\n",
            "\u001b[1m38/38\u001b[0m \u001b[32m━━━━━━━━━━━━━━━━━━━━\u001b[0m\u001b[37m\u001b[0m \u001b[1m1s\u001b[0m 29ms/step - loss: 0.0151 - mae: 0.0936 - val_loss: 0.0315 - val_mae: 0.1202\n",
            "Epoch 7/50\n",
            "\u001b[1m38/38\u001b[0m \u001b[32m━━━━━━━━━━━━━━━━━━━━\u001b[0m\u001b[37m\u001b[0m \u001b[1m1s\u001b[0m 31ms/step - loss: 0.0139 - mae: 0.0905 - val_loss: 0.0336 - val_mae: 0.1289\n",
            "Epoch 8/50\n",
            "\u001b[1m38/38\u001b[0m \u001b[32m━━━━━━━━━━━━━━━━━━━━\u001b[0m\u001b[37m\u001b[0m \u001b[1m1s\u001b[0m 20ms/step - loss: 0.0132 - mae: 0.0876 - val_loss: 0.0289 - val_mae: 0.1143\n",
            "Epoch 9/50\n",
            "\u001b[1m38/38\u001b[0m \u001b[32m━━━━━━━━━━━━━━━━━━━━\u001b[0m\u001b[37m\u001b[0m \u001b[1m1s\u001b[0m 19ms/step - loss: 0.0119 - mae: 0.0841 - val_loss: 0.0234 - val_mae: 0.1038\n",
            "Epoch 10/50\n",
            "\u001b[1m38/38\u001b[0m \u001b[32m━━━━━━━━━━━━━━━━━━━━\u001b[0m\u001b[37m\u001b[0m \u001b[1m1s\u001b[0m 19ms/step - loss: 0.0109 - mae: 0.0799 - val_loss: 0.0297 - val_mae: 0.1211\n",
            "Epoch 11/50\n",
            "\u001b[1m38/38\u001b[0m \u001b[32m━━━━━━━━━━━━━━━━━━━━\u001b[0m\u001b[37m\u001b[0m \u001b[1m1s\u001b[0m 18ms/step - loss: 0.0099 - mae: 0.0761 - val_loss: 0.0299 - val_mae: 0.1142\n",
            "Epoch 12/50\n",
            "\u001b[1m38/38\u001b[0m \u001b[32m━━━━━━━━━━━━━━━━━━━━\u001b[0m\u001b[37m\u001b[0m \u001b[1m1s\u001b[0m 19ms/step - loss: 0.0092 - mae: 0.0729 - val_loss: 0.0277 - val_mae: 0.1121\n",
            "Epoch 13/50\n",
            "\u001b[1m38/38\u001b[0m \u001b[32m━━━━━━━━━━━━━━━━━━━━\u001b[0m\u001b[37m\u001b[0m \u001b[1m1s\u001b[0m 18ms/step - loss: 0.0086 - mae: 0.0703 - val_loss: 0.0280 - val_mae: 0.1151\n",
            "Epoch 14/50\n",
            "\u001b[1m38/38\u001b[0m \u001b[32m━━━━━━━━━━━━━━━━━━━━\u001b[0m\u001b[37m\u001b[0m \u001b[1m1s\u001b[0m 19ms/step - loss: 0.0077 - mae: 0.0667 - val_loss: 0.0244 - val_mae: 0.1088\n",
            "Epoch 15/50\n",
            "\u001b[1m38/38\u001b[0m \u001b[32m━━━━━━━━━━━━━━━━━━━━\u001b[0m\u001b[37m\u001b[0m \u001b[1m1s\u001b[0m 19ms/step - loss: 0.0074 - mae: 0.0649 - val_loss: 0.0256 - val_mae: 0.1139\n",
            "Epoch 16/50\n",
            "\u001b[1m38/38\u001b[0m \u001b[32m━━━━━━━━━━━━━━━━━━━━\u001b[0m\u001b[37m\u001b[0m \u001b[1m1s\u001b[0m 20ms/step - loss: 0.0071 - mae: 0.0632 - val_loss: 0.0255 - val_mae: 0.1123\n",
            "Epoch 17/50\n",
            "\u001b[1m38/38\u001b[0m \u001b[32m━━━━━━━━━━━━━━━━━━━━\u001b[0m\u001b[37m\u001b[0m \u001b[1m1s\u001b[0m 18ms/step - loss: 0.0066 - mae: 0.0614 - val_loss: 0.0216 - val_mae: 0.1005\n",
            "Epoch 18/50\n",
            "\u001b[1m38/38\u001b[0m \u001b[32m━━━━━━━━━━━━━━━━━━━━\u001b[0m\u001b[37m\u001b[0m \u001b[1m1s\u001b[0m 18ms/step - loss: 0.0065 - mae: 0.0602 - val_loss: 0.0292 - val_mae: 0.1230\n",
            "Epoch 19/50\n",
            "\u001b[1m38/38\u001b[0m \u001b[32m━━━━━━━━━━━━━━━━━━━━\u001b[0m\u001b[37m\u001b[0m \u001b[1m1s\u001b[0m 18ms/step - loss: 0.0057 - mae: 0.0567 - val_loss: 0.0282 - val_mae: 0.1156\n",
            "Epoch 20/50\n",
            "\u001b[1m38/38\u001b[0m \u001b[32m━━━━━━━━━━━━━━━━━━━━\u001b[0m\u001b[37m\u001b[0m \u001b[1m1s\u001b[0m 26ms/step - loss: 0.0058 - mae: 0.0576 - val_loss: 0.0237 - val_mae: 0.1085\n",
            "Epoch 21/50\n",
            "\u001b[1m38/38\u001b[0m \u001b[32m━━━━━━━━━━━━━━━━━━━━\u001b[0m\u001b[37m\u001b[0m \u001b[1m1s\u001b[0m 30ms/step - loss: 0.0055 - mae: 0.0560 - val_loss: 0.0243 - val_mae: 0.1083\n",
            "Epoch 22/50\n",
            "\u001b[1m38/38\u001b[0m \u001b[32m━━━━━━━━━━━━━━━━━━━━\u001b[0m\u001b[37m\u001b[0m \u001b[1m1s\u001b[0m 21ms/step - loss: 0.0056 - mae: 0.0562 - val_loss: 0.0246 - val_mae: 0.1111\n",
            "Epoch 23/50\n",
            "\u001b[1m38/38\u001b[0m \u001b[32m━━━━━━━━━━━━━━━━━━━━\u001b[0m\u001b[37m\u001b[0m \u001b[1m1s\u001b[0m 18ms/step - loss: 0.0052 - mae: 0.0542 - val_loss: 0.0258 - val_mae: 0.1124\n",
            "Epoch 24/50\n",
            "\u001b[1m38/38\u001b[0m \u001b[32m━━━━━━━━━━━━━━━━━━━━\u001b[0m\u001b[37m\u001b[0m \u001b[1m1s\u001b[0m 19ms/step - loss: 0.0053 - mae: 0.0546 - val_loss: 0.0258 - val_mae: 0.1124\n",
            "Epoch 25/50\n",
            "\u001b[1m38/38\u001b[0m \u001b[32m━━━━━━━━━━━━━━━━━━━━\u001b[0m\u001b[37m\u001b[0m \u001b[1m1s\u001b[0m 19ms/step - loss: 0.0052 - mae: 0.0540 - val_loss: 0.0240 - val_mae: 0.1076\n",
            "Epoch 26/50\n",
            "\u001b[1m38/38\u001b[0m \u001b[32m━━━━━━━━━━━━━━━━━━━━\u001b[0m\u001b[37m\u001b[0m \u001b[1m1s\u001b[0m 19ms/step - loss: 0.0048 - mae: 0.0519 - val_loss: 0.0243 - val_mae: 0.1071\n",
            "Epoch 27/50\n",
            "\u001b[1m38/38\u001b[0m \u001b[32m━━━━━━━━━━━━━━━━━━━━\u001b[0m\u001b[37m\u001b[0m \u001b[1m1s\u001b[0m 19ms/step - loss: 0.0049 - mae: 0.0529 - val_loss: 0.0233 - val_mae: 0.1096\n",
            "Epoch 28/50\n",
            "\u001b[1m38/38\u001b[0m \u001b[32m━━━━━━━━━━━━━━━━━━━━\u001b[0m\u001b[37m\u001b[0m \u001b[1m1s\u001b[0m 19ms/step - loss: 0.0048 - mae: 0.0524 - val_loss: 0.0235 - val_mae: 0.1112\n",
            "Epoch 29/50\n",
            "\u001b[1m38/38\u001b[0m \u001b[32m━━━━━━━━━━━━━━━━━━━━\u001b[0m\u001b[37m\u001b[0m \u001b[1m1s\u001b[0m 19ms/step - loss: 0.0046 - mae: 0.0513 - val_loss: 0.0241 - val_mae: 0.1094\n",
            "Epoch 30/50\n",
            "\u001b[1m38/38\u001b[0m \u001b[32m━━━━━━━━━━━━━━━━━━━━\u001b[0m\u001b[37m\u001b[0m \u001b[1m2s\u001b[0m 27ms/step - loss: 0.0048 - mae: 0.0521 - val_loss: 0.0252 - val_mae: 0.1147\n",
            "Epoch 31/50\n",
            "\u001b[1m38/38\u001b[0m \u001b[32m━━━━━━━━━━━━━━━━━━━━\u001b[0m\u001b[37m\u001b[0m \u001b[1m1s\u001b[0m 26ms/step - loss: 0.0045 - mae: 0.0507 - val_loss: 0.0229 - val_mae: 0.1082\n",
            "Epoch 32/50\n",
            "\u001b[1m38/38\u001b[0m \u001b[32m━━━━━━━━━━━━━━━━━━━━\u001b[0m\u001b[37m\u001b[0m \u001b[1m1s\u001b[0m 24ms/step - loss: 0.0046 - mae: 0.0510 - val_loss: 0.0220 - val_mae: 0.1065\n",
            "Epoch 33/50\n",
            "\u001b[1m38/38\u001b[0m \u001b[32m━━━━━━━━━━━━━━━━━━━━\u001b[0m\u001b[37m\u001b[0m \u001b[1m1s\u001b[0m 31ms/step - loss: 0.0046 - mae: 0.0508 - val_loss: 0.0219 - val_mae: 0.1044\n",
            "Epoch 34/50\n",
            "\u001b[1m38/38\u001b[0m \u001b[32m━━━━━━━━━━━━━━━━━━━━\u001b[0m\u001b[37m\u001b[0m \u001b[1m1s\u001b[0m 26ms/step - loss: 0.0045 - mae: 0.0500 - val_loss: 0.0247 - val_mae: 0.1138\n",
            "Epoch 35/50\n",
            "\u001b[1m38/38\u001b[0m \u001b[32m━━━━━━━━━━━━━━━━━━━━\u001b[0m\u001b[37m\u001b[0m \u001b[1m1s\u001b[0m 19ms/step - loss: 0.0044 - mae: 0.0499 - val_loss: 0.0208 - val_mae: 0.1025\n",
            "Epoch 36/50\n",
            "\u001b[1m38/38\u001b[0m \u001b[32m━━━━━━━━━━━━━━━━━━━━\u001b[0m\u001b[37m\u001b[0m \u001b[1m1s\u001b[0m 19ms/step - loss: 0.0042 - mae: 0.0488 - val_loss: 0.0214 - val_mae: 0.1060\n",
            "Epoch 37/50\n",
            "\u001b[1m38/38\u001b[0m \u001b[32m━━━━━━━━━━━━━━━━━━━━\u001b[0m\u001b[37m\u001b[0m \u001b[1m1s\u001b[0m 19ms/step - loss: 0.0042 - mae: 0.0486 - val_loss: 0.0205 - val_mae: 0.1042\n",
            "Epoch 38/50\n",
            "\u001b[1m38/38\u001b[0m \u001b[32m━━━━━━━━━━━━━━━━━━━━\u001b[0m\u001b[37m\u001b[0m \u001b[1m2s\u001b[0m 30ms/step - loss: 0.0045 - mae: 0.0503 - val_loss: 0.0210 - val_mae: 0.1066\n",
            "Epoch 39/50\n",
            "\u001b[1m38/38\u001b[0m \u001b[32m━━━━━━━━━━━━━━━━━━━━\u001b[0m\u001b[37m\u001b[0m \u001b[1m1s\u001b[0m 24ms/step - loss: 0.0041 - mae: 0.0484 - val_loss: 0.0208 - val_mae: 0.1041\n",
            "Epoch 40/50\n",
            "\u001b[1m38/38\u001b[0m \u001b[32m━━━━━━━━━━━━━━━━━━━━\u001b[0m\u001b[37m\u001b[0m \u001b[1m1s\u001b[0m 19ms/step - loss: 0.0040 - mae: 0.0477 - val_loss: 0.0211 - val_mae: 0.1058\n",
            "Epoch 41/50\n",
            "\u001b[1m38/38\u001b[0m \u001b[32m━━━━━━━━━━━━━━━━━━━━\u001b[0m\u001b[37m\u001b[0m \u001b[1m1s\u001b[0m 19ms/step - loss: 0.0040 - mae: 0.0477 - val_loss: 0.0184 - val_mae: 0.0999\n",
            "Epoch 42/50\n",
            "\u001b[1m38/38\u001b[0m \u001b[32m━━━━━━━━━━━━━━━━━━━━\u001b[0m\u001b[37m\u001b[0m \u001b[1m1s\u001b[0m 19ms/step - loss: 0.0038 - mae: 0.0468 - val_loss: 0.0179 - val_mae: 0.0957\n",
            "Epoch 43/50\n",
            "\u001b[1m38/38\u001b[0m \u001b[32m━━━━━━━━━━━━━━━━━━━━\u001b[0m\u001b[37m\u001b[0m \u001b[1m1s\u001b[0m 19ms/step - loss: 0.0040 - mae: 0.0474 - val_loss: 0.0193 - val_mae: 0.1024\n",
            "Epoch 44/50\n",
            "\u001b[1m38/38\u001b[0m \u001b[32m━━━━━━━━━━━━━━━━━━━━\u001b[0m\u001b[37m\u001b[0m \u001b[1m1s\u001b[0m 19ms/step - loss: 0.0037 - mae: 0.0461 - val_loss: 0.0180 - val_mae: 0.1015\n",
            "Epoch 45/50\n",
            "\u001b[1m38/38\u001b[0m \u001b[32m━━━━━━━━━━━━━━━━━━━━\u001b[0m\u001b[37m\u001b[0m \u001b[1m1s\u001b[0m 21ms/step - loss: 0.0042 - mae: 0.0486 - val_loss: 0.0167 - val_mae: 0.0944\n",
            "Epoch 46/50\n",
            "\u001b[1m38/38\u001b[0m \u001b[32m━━━━━━━━━━━━━━━━━━━━\u001b[0m\u001b[37m\u001b[0m \u001b[1m1s\u001b[0m 30ms/step - loss: 0.0036 - mae: 0.0455 - val_loss: 0.0173 - val_mae: 0.0975\n",
            "Epoch 47/50\n",
            "\u001b[1m38/38\u001b[0m \u001b[32m━━━━━━━━━━━━━━━━━━━━\u001b[0m\u001b[37m\u001b[0m \u001b[1m1s\u001b[0m 30ms/step - loss: 0.0036 - mae: 0.0457 - val_loss: 0.0174 - val_mae: 0.1021\n",
            "Epoch 48/50\n",
            "\u001b[1m38/38\u001b[0m \u001b[32m━━━━━━━━━━━━━━━━━━━━\u001b[0m\u001b[37m\u001b[0m \u001b[1m1s\u001b[0m 18ms/step - loss: 0.0037 - mae: 0.0468 - val_loss: 0.0169 - val_mae: 0.0963\n",
            "Epoch 49/50\n",
            "\u001b[1m38/38\u001b[0m \u001b[32m━━━━━━━━━━━━━━━━━━━━\u001b[0m\u001b[37m\u001b[0m \u001b[1m1s\u001b[0m 18ms/step - loss: 0.0039 - mae: 0.0475 - val_loss: 0.0159 - val_mae: 0.0889\n",
            "Epoch 50/50\n",
            "\u001b[1m38/38\u001b[0m \u001b[32m━━━━━━━━━━━━━━━━━━━━\u001b[0m\u001b[37m\u001b[0m \u001b[1m1s\u001b[0m 18ms/step - loss: 0.0037 - mae: 0.0463 - val_loss: 0.0167 - val_mae: 0.0966\n",
            "LSTM模型训练完成\n"
          ]
        }
      ]
    },
    {
      "cell_type": "markdown",
      "source": [
        "## 5. Rolling window prediction"
      ],
      "metadata": {
        "id": "Msy5y9yivfIf"
      }
    },
    {
      "cell_type": "code",
      "source": [
        "\n",
        "print(\"=\"*50)\n",
        "print(\"5. 滚动窗口预测\")\n",
        "print(\"=\"*50)\n",
        "\n",
        "def rolling_prediction(model, test_data, seq_length):\n",
        "    \"\"\"滚动窗口预测\"\"\"\n",
        "    predictions = []\n",
        "\n",
        "    for i in range(seq_length, len(test_data)):\n",
        "        # 获取窗口数据\n",
        "        window_data = test_data.iloc[i-seq_length:i]\n",
        "        X_input = window_data.values.reshape(1, seq_length, -1)\n",
        "\n",
        "        # 预测\n",
        "        pred = model.predict(X_input, verbose=0)\n",
        "        predictions.append(pred[0])\n",
        "\n",
        "    return np.array(predictions)\n",
        "\n",
        "# 执行滚动预测\n",
        "predictions = rolling_prediction(lstm_model, test_data, sequence_length)\n",
        "\n",
        "print(f\"预测结果形状: {predictions.shape}\")\n",
        "print(\"滚动窗口预测完成\")"
      ],
      "metadata": {
        "colab": {
          "base_uri": "https://localhost:8080/"
        },
        "id": "CtKvXxhDvCck",
        "outputId": "7e6fde99-dc40-4417-9f8f-0da8183cb21f"
      },
      "execution_count": 7,
      "outputs": [
        {
          "output_type": "stream",
          "name": "stdout",
          "text": [
            "==================================================\n",
            "5. 滚动窗口预测\n",
            "==================================================\n",
            "预测结果形状: (10, 16)\n",
            "滚动窗口预测完成\n"
          ]
        }
      ]
    },
    {
      "cell_type": "markdown",
      "source": [
        "## 6. Quantify Uncertainty"
      ],
      "metadata": {
        "id": "PDXHWkdUvkOg"
      }
    },
    {
      "cell_type": "code",
      "source": [
        "\n",
        "print(\"=\"*50)\n",
        "print(\"6. 不确定性量化\")\n",
        "print(\"=\"*50)\n",
        "\n",
        "def quantify_uncertainty(model, test_data, seq_length, n_samples=10):\n",
        "    \"\"\"量化预测不确定性\"\"\"\n",
        "    predictions_list = []\n",
        "\n",
        "    for i in range(seq_length, len(test_data)):\n",
        "        window_data = test_data.iloc[i-seq_length:i]\n",
        "        X_input = window_data.values.reshape(1, seq_length, -1)\n",
        "\n",
        "        # 多次预测\n",
        "        pred_samples = []\n",
        "        for _ in range(n_samples):\n",
        "            pred = model.predict(X_input, verbose=0)\n",
        "            pred_samples.append(pred[0])\n",
        "\n",
        "        pred_samples = np.array(pred_samples)\n",
        "        mean_pred = np.mean(pred_samples, axis=0)\n",
        "        uncertainty = np.std(pred_samples, axis=0)\n",
        "\n",
        "        predictions_list.append((mean_pred, uncertainty))\n",
        "\n",
        "    return predictions_list\n",
        "\n",
        "# 量化不确定性\n",
        "uncertainty_results = quantify_uncertainty(lstm_model, test_data, sequence_length)\n",
        "\n",
        "mean_predictions = np.array([result[0] for result in uncertainty_results])\n",
        "uncertainties = np.array([result[1] for result in uncertainty_results])\n",
        "\n",
        "print(f\"平均预测形状: {mean_predictions.shape}\")\n",
        "print(f\"不确定性形状: {uncertainties.shape}\")\n",
        "print(\"不确定性量化完成\")\n"
      ],
      "metadata": {
        "colab": {
          "base_uri": "https://localhost:8080/"
        },
        "id": "ue8fNqeDvi9G",
        "outputId": "eef057e6-a3bb-41bf-af27-f1a0a1f652a4"
      },
      "execution_count": 8,
      "outputs": [
        {
          "output_type": "stream",
          "name": "stdout",
          "text": [
            "==================================================\n",
            "6. 不确定性量化\n",
            "==================================================\n",
            "平均预测形状: (10, 16)\n",
            "不确定性形状: (10, 16)\n",
            "不确定性量化完成\n"
          ]
        }
      ]
    },
    {
      "cell_type": "markdown",
      "source": [
        "## 7. Robust Optimization"
      ],
      "metadata": {
        "id": "BC6nnmIkvq9O"
      }
    },
    {
      "cell_type": "code",
      "source": [
        "\n",
        "print(\"=\"*50)\n",
        "print(\"7. Robust优化\")\n",
        "print(\"=\"*50)\n",
        "\n",
        "def robust_optimization(expected_returns, uncertainty, cov_matrix, risk_aversion=1.0, uncertainty_factor=0.1):\n",
        "    \"\"\"Robust Mean-Variance优化\"\"\"\n",
        "    n = len(expected_returns)\n",
        "    weights = cp.Variable(n)\n",
        "\n",
        "    # 考虑不确定性的鲁棒收益\n",
        "    robust_returns = expected_returns - uncertainty_factor * uncertainty\n",
        "\n",
        "    # 目标函数\n",
        "    portfolio_return = cp.sum(cp.multiply(weights, robust_returns))\n",
        "    portfolio_risk = cp.quad_form(weights, cov_matrix)\n",
        "    objective = cp.Maximize(portfolio_return - risk_aversion * portfolio_risk)\n",
        "\n",
        "    # 约束条件\n",
        "    constraints = [\n",
        "        cp.sum(weights) == 1,  # 权重和为1\n",
        "        weights >= 0,  # 不允许做空\n",
        "        weights <= 0.1,  # 单只股票最大10%\n",
        "    ]\n",
        "\n",
        "    # 求解\n",
        "    problem = cp.Problem(objective, constraints)\n",
        "    problem.solve()\n",
        "\n",
        "    if problem.status == cp.OPTIMAL:\n",
        "        return weights.value\n",
        "    else:\n",
        "        return np.ones(n) / n  # 等权重\n",
        "\n",
        "print(\"Robust优化函数定义完成\")"
      ],
      "metadata": {
        "colab": {
          "base_uri": "https://localhost:8080/"
        },
        "id": "8dfCLJM0voaQ",
        "outputId": "2fadb074-f7a2-43d4-fdef-7890288c60f5"
      },
      "execution_count": 9,
      "outputs": [
        {
          "output_type": "stream",
          "name": "stdout",
          "text": [
            "==================================================\n",
            "7. Robust优化\n",
            "==================================================\n",
            "Robust优化函数定义完成\n"
          ]
        }
      ]
    },
    {
      "cell_type": "markdown",
      "source": [
        "## 8.投资组合权重"
      ],
      "metadata": {
        "id": "v93z6Nwwvvq3"
      }
    },
    {
      "cell_type": "code",
      "source": [
        "print(\"=\"*50)\n",
        "print(\"8. 投资组合权重\")\n",
        "print(\"=\"*50)\n",
        "\n",
        "# 计算协方差矩阵\n",
        "cov_matrix = returns.cov().values\n",
        "\n",
        "# 为每个预测时点计算最优权重\n",
        "portfolio_weights = []\n",
        "\n",
        "for i in range(len(mean_predictions)):\n",
        "    expected_returns = mean_predictions[i]\n",
        "    uncertainty = uncertainties[i]\n",
        "\n",
        "    # Robust优化\n",
        "    optimal_weights = robust_optimization(expected_returns, uncertainty, cov_matrix)\n",
        "    portfolio_weights.append(optimal_weights)\n",
        "\n",
        "portfolio_weights = np.array(portfolio_weights)\n",
        "\n",
        "print(f\"投资组合权重形状: {portfolio_weights.shape}\")\n",
        "print(f\"权重和: {portfolio_weights.sum(axis=1)[:5]}...\")\n",
        "print(\"投资组合权重计算完成\")"
      ],
      "metadata": {
        "colab": {
          "base_uri": "https://localhost:8080/"
        },
        "id": "hfrWzSJhvunn",
        "outputId": "efe642e1-4c74-4610-ecf1-6c47b0ccc854"
      },
      "execution_count": 10,
      "outputs": [
        {
          "output_type": "stream",
          "name": "stdout",
          "text": [
            "==================================================\n",
            "8. 投资组合权重\n",
            "==================================================\n",
            "投资组合权重形状: (10, 16)\n",
            "权重和: [1. 1. 1. 1. 1.]...\n",
            "投资组合权重计算完成\n"
          ]
        }
      ]
    },
    {
      "cell_type": "markdown",
      "source": [
        "## 9. 回测评估"
      ],
      "metadata": {
        "id": "CpP6_AGAv0tG"
      }
    },
    {
      "cell_type": "code",
      "source": [
        "print(\"=\"*50)\n",
        "print(\"9. 回测评估\")\n",
        "print(\"=\"*50)\n",
        "\n",
        "# 计算投资组合收益率\n",
        "portfolio_returns = []\n",
        "actual_returns = returns.iloc[-len(portfolio_weights):].values\n",
        "\n",
        "for i, weights in enumerate(portfolio_weights):\n",
        "    if i < len(actual_returns):\n",
        "        portfolio_return = np.dot(weights, actual_returns[i])\n",
        "        portfolio_returns.append(portfolio_return)\n",
        "\n",
        "portfolio_returns = np.array(portfolio_returns)\n",
        "\n",
        "# 计算性能指标\n",
        "total_return = (1 + portfolio_returns).prod() - 1\n",
        "volatility = portfolio_returns.std() * np.sqrt(252)\n",
        "sharpe_ratio = portfolio_returns.mean() / portfolio_returns.std() * np.sqrt(252)\n",
        "\n",
        "# 最大回撤\n",
        "cumulative = (1 + portfolio_returns).cumprod()\n",
        "cumulative_series = pd.Series(cumulative) # Convert numpy array to pandas Series\n",
        "running_max = cumulative_series.expanding().max()\n",
        "drawdown = (cumulative_series - running_max) / running_max\n",
        "max_drawdown = drawdown.min()\n",
        "\n",
        "print(f\"投资组合收益率形状: {portfolio_returns.shape}\")\n",
        "print(\"回测评估完成\")"
      ],
      "metadata": {
        "colab": {
          "base_uri": "https://localhost:8080/"
        },
        "id": "3EdIb9JDvzBL",
        "outputId": "08847a0b-3225-48e0-f51f-f554d8ba6cca"
      },
      "execution_count": 12,
      "outputs": [
        {
          "output_type": "stream",
          "name": "stdout",
          "text": [
            "==================================================\n",
            "9. 回测评估\n",
            "==================================================\n",
            "投资组合收益率形状: (10,)\n",
            "回测评估完成\n"
          ]
        }
      ]
    },
    {
      "cell_type": "markdown",
      "source": [
        "## 10.性能报告"
      ],
      "metadata": {
        "id": "YWHwsdQPv9fe"
      }
    },
    {
      "cell_type": "code",
      "source": [
        "print(\"=\"*60)\n",
        "print(\"10. Performance Report\")\n",
        "print(\"=\"*60)\n",
        "\n",
        "print(f\"Investment Universe: {len(stock_names)} Stocks\")\n",
        "print(f\"Testing Period: {len(portfolio_returns)} Trading Days\")\n",
        "print(f\"Sequence Length: {sequence_length} Days\")\n",
        "\n",
        "print(\"\\n\" + \"-\"*60)\n",
        "print(\"Performance Metrics\")\n",
        "print(\"-\"*60)\n",
        "print(f\"• Total Return: {total_return:.4f} ({total_return*100:.2f}%)\")\n",
        "print(f\"• Annualized Volatility: {volatility:.4f} ({volatility*100:.2f}%)\")\n",
        "print(f\"• Sharpe Ratio: {sharpe_ratio:.4f}\")\n",
        "print(f\"• Maximum Drawdown: {max_drawdown:.4f} ({max_drawdown*100:.2f}%)\")\n",
        "\n",
        "print(\"\\n\" + \"-\"*60)\n",
        "print(\"Model Characteristics\")\n",
        "print(\"-\"*60)\n",
        "print(\"• LSTM Prediction: Capturing Time Series Patterns\")\n",
        "print(\"• Uncertainty Quantification: Considering Prediction Risk\")\n",
        "print(\"• Robust Optimization: Maximizing Robust Return\")\n",
        "print(\"• Risk Control: Limiting Concentration Risk\")\n",
        "\n",
        "# Visualization Results\n",
        "plt.figure(figsize=(15, 10))\n",
        "\n",
        "# Portfolio Value Curve\n",
        "plt.subplot(2, 2, 1)\n",
        "portfolio_values = (1 + portfolio_returns).cumprod()\n",
        "plt.plot(portfolio_values, label='Portfolio Value', linewidth=2)\n",
        "plt.title('Portfolio Value Curve')\n",
        "plt.xlabel('Time')\n",
        "plt.ylabel('Value')\n",
        "plt.legend()\n",
        "plt.grid(True)\n",
        "\n",
        "# Return Distribution\n",
        "plt.subplot(2, 2, 2)\n",
        "plt.hist(portfolio_returns, bins=20, alpha=0.7, edgecolor='black')\n",
        "plt.title('Portfolio Return Distribution')\n",
        "plt.xlabel('Return')\n",
        "plt.ylabel('Frequency')\n",
        "plt.grid(True)\n",
        "\n",
        "# Weight Distribution\n",
        "plt.subplot(2, 2, 3)\n",
        "avg_weights = portfolio_weights.mean(axis=0)\n",
        "plt.bar(returns.columns, avg_weights)\n",
        "plt.title('Average Investment Weights')\n",
        "plt.xlabel('Stock')\n",
        "plt.ylabel('Weight')\n",
        "plt.xticks(rotation=45, ha='right')\n",
        "plt.grid(True)\n",
        "\n",
        "# Drawdown Curve\n",
        "plt.subplot(2, 2, 4)\n",
        "plt.fill_between(range(len(drawdown)), drawdown, 0, alpha=0.3, color='red')\n",
        "plt.plot(drawdown, color='red', linewidth=1)\n",
        "plt.title('Drawdown Curve')\n",
        "plt.xlabel('Time')\n",
        "plt.ylabel('Drawdown')\n",
        "plt.grid(True)\n",
        "\n",
        "plt.tight_layout()\n",
        "plt.show()\n",
        "\n",
        "print(\"\\nPerformance Report Complete!\")"
      ],
      "metadata": {
        "colab": {
          "base_uri": "https://localhost:8080/",
          "height": 1000
        },
        "id": "WTpRvA0Vv2sm",
        "outputId": "516dd00c-4508-474a-ece7-34a164be6544"
      },
      "execution_count": 17,
      "outputs": [
        {
          "output_type": "stream",
          "name": "stdout",
          "text": [
            "============================================================\n",
            "10. Performance Report\n",
            "============================================================\n",
            "Investment Universe: 24 Stocks\n",
            "Testing Period: 10 Trading Days\n",
            "Sequence Length: 20 Days\n",
            "\n",
            "------------------------------------------------------------\n",
            "Performance Metrics\n",
            "------------------------------------------------------------\n",
            "• Total Return: -0.0252 (-2.52%)\n",
            "• Annualized Volatility: 0.1171 (11.71%)\n",
            "• Sharpe Ratio: -5.4260\n",
            "• Maximum Drawdown: -0.0275 (-2.75%)\n",
            "\n",
            "------------------------------------------------------------\n",
            "Model Characteristics\n",
            "------------------------------------------------------------\n",
            "• LSTM Prediction: Capturing Time Series Patterns\n",
            "• Uncertainty Quantification: Considering Prediction Risk\n",
            "• Robust Optimization: Maximizing Robust Return\n",
            "• Risk Control: Limiting Concentration Risk\n"
          ]
        },
        {
          "output_type": "display_data",
          "data": {
            "text/plain": [
              "<Figure size 1500x1000 with 4 Axes>"
            ],
            "image/png": "[encoded data removed]"
          },
          "metadata": {}
        },
        {
          "output_type": "stream",
          "name": "stdout",
          "text": [
            "\n",
            "Performance Report Complete!\n"
          ]
        }
      ]
    },
    {
      "cell_type": "code",
      "source": [],
      "metadata": {
        "id": "MFkA8DxmwAfn"
      },
      "execution_count": null,
      "outputs": []
    }
  ]
}